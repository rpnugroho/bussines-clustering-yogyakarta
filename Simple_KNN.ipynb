{
  "nbformat": 4,
  "nbformat_minor": 0,
  "metadata": {
    "colab": {
      "name": "Simple KNN.ipynb",
      "provenance": [],
      "collapsed_sections": [],
      "authorship_tag": "ABX9TyO9vYLUQEU01i/518U2T5jC"
    },
    "kernelspec": {
      "name": "python3",
      "display_name": "Python 3"
    }
  },
  "cells": [
    {
      "cell_type": "markdown",
      "metadata": {
        "id": "lGieZOGxb0a8",
        "colab_type": "text"
      },
      "source": [
        "![Eucladian Distance](https://wikimedia.org/api/rest_v1/media/math/render/svg/795b967db2917cdde7c2da2d1ee327eb673276c0)\n",
        "\n"
      ]
    },
    {
      "cell_type": "code",
      "metadata": {
        "id": "MNBgJh6W4WaR",
        "colab_type": "code",
        "colab": {}
      },
      "source": [
        "def distance(point_p, point_q):\n",
        "    #Calculate distance using Eucladian distance\n",
        "    squared_difference = 0\n",
        "    #calculate squared_difference between point from 1 to n\n",
        "    for i in range(len(point_p)):\n",
        "        squared_difference += (point_p[i] - point_q[i]) ** 2\n",
        "    final_distance = squared_difference ** 0.5\n",
        "    return final_distance"
      ],
      "execution_count": 0,
      "outputs": []
    },
    {
      "cell_type": "code",
      "metadata": {
        "id": "_A1_h1PhbcPP",
        "colab_type": "code",
        "colab": {}
      },
      "source": [
        "def classify(unknown, dataset, k):\n",
        "    distances = []\n",
        "    #Looping through all points in the dataset\n",
        "    for data in dataset:\n",
        "        point = dataset[data]\n",
        "        distance_to_point = distance(point, unknown)\n",
        "        #Adding the distance and point associated with that distance\n",
        "        distances.append([distance_to_point, point])\n",
        "    distances.sort()\n",
        "    #Taking only the k closest points\n",
        "    neighbors = distances[0:k]\n",
        "    return neighbors"
      ],
      "execution_count": 0,
      "outputs": []
    }
  ]
}