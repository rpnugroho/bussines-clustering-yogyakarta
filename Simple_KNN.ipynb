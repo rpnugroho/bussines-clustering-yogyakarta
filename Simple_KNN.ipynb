{
  "nbformat": 4,
  "nbformat_minor": 0,
  "metadata": {
    "colab": {
      "name": "Simple KNN.ipynb",
      "provenance": [],
      "authorship_tag": "ABX9TyNcirJhlYp0QqJqcBwGMVqk"
    },
    "kernelspec": {
      "name": "python3",
      "display_name": "Python 3"
    }
  },
  "cells": [
    {
      "cell_type": "code",
      "metadata": {
        "id": "MNBgJh6W4WaR",
        "colab_type": "code",
        "colab": {}
      },
      "source": [
        ""
      ],
      "execution_count": 0,
      "outputs": []
    }
  ]
}